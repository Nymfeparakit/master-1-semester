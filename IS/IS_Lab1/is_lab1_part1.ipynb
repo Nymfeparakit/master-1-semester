{
 "cells": [
  {
   "cell_type": "code",
   "execution_count": 6,
   "metadata": {},
   "outputs": [],
   "source": [
    "%matplotlib inline\n",
    "import csv\n",
    "import matplotlib.pyplot as plt\n",
    "import numpy as np\n",
    "from mpl_toolkits import mplot3d"
   ]
  },
  {
   "cell_type": "code",
   "execution_count": 7,
   "metadata": {},
   "outputs": [],
   "source": [
    "def computeCost(X, y, theta):\n",
    "\n",
    "    m = len(y)\n",
    "    J = 0\n",
    "\n",
    "    for i in range(0, m):\n",
    "        J += (X[i, :]@theta - y[i, :]) ** 2\n",
    "    J /= 2*m\n",
    "\n",
    "    return J"
   ]
  },
  {
   "cell_type": "code",
   "execution_count": 8,
   "metadata": {},
   "outputs": [],
   "source": [
    "def gradient_descent(X, y, theta, alpha, num_iters):\n",
    "    m = len(y)\n",
    "    J_history = np.zeros((num_iters, 1))\n",
    "\n",
    "    for i in range(1, num_iters + 1):\n",
    "        tmp_sum = 0\n",
    "        for j in range(0, m):\n",
    "            tmp_res = X[j, :]@theta - y[j, :]\n",
    "            tmp_res = tmp_res * X[j, :]\n",
    "            tmp_sum += tmp_res\n",
    "        tmp_sum = (alpha/m)*tmp_sum\n",
    "        for k in range(theta.shape[0]):\n",
    "            theta[k, 0] -= tmp_sum[k]\n",
    "        J_history[i - 1, 0] = computeCost(X, y, theta)\n",
    "\n",
    "    return theta"
   ]
  },
  {
   "cell_type": "code",
   "execution_count": 9,
   "metadata": {},
   "outputs": [
    {
     "name": "stdout",
     "output_type": "stream",
     "text": [
      "Warm up excercise\n",
      "[[1. 0. 0. 0. 0.]\n",
      " [0. 1. 0. 0. 0.]\n",
      " [0. 0. 1. 0. 0.]\n",
      " [0. 0. 0. 1. 0.]\n",
      " [0. 0. 0. 0. 1.]]\n",
      "Нажмите на любую клавишу, чтобы продолжить...\n"
     ]
    },
    {
     "data": {
      "text/plain": [
       "''"
      ]
     },
     "execution_count": 9,
     "metadata": {},
     "output_type": "execute_result"
    }
   ],
   "source": [
    "print(\"Warm up excercise\")\n",
    "ident_matr = np.identity(5)\n",
    "print(ident_matr)\n",
    "input(\"Нажмите на любую клавишу, чтобы продолжить...\")"
   ]
  },
  {
   "cell_type": "code",
   "execution_count": 10,
   "metadata": {},
   "outputs": [
    {
     "name": "stdout",
     "output_type": "stream",
     "text": [
      "Отображение данных в виде точечного графика\n",
      "Нажмите на любую клавишу, чтобы продолжить...\n",
      "Выполнение градиентного спуска\n",
      "Значение theta, полученное методом градиентного спуска:\n",
      " [[-3.63029144]\n",
      " [ 1.16636235]]\n"
     ]
    },
    {
     "data": {
      "image/png": "[encoded data removed]",
      "text/plain": [
       "<Figure size 432x288 with 1 Axes>"
      ]
     },
     "metadata": {
      "needs_background": "light"
     },
     "output_type": "display_data"
    }
   ],
   "source": [
    "print(\"Отображение данных в виде точечного графика\")\n",
    "X = []\n",
    "Y = []\n",
    "with open('ex1data1.csv') as f:\n",
    "    scv_reader = csv.reader(f, delimiter=',')\n",
    "    for row in scv_reader:\n",
    "        X.append([row[0]])\n",
    "        Y.append([row[1]])\n",
    "X = np.asarray(X).astype(np.float)\n",
    "Y = np.asarray(Y).astype(np.float)\n",
    "\n",
    "fig = plt.figure()\n",
    "plt.scatter(X, Y)\n",
    "ax = fig.axes[0]\n",
    "plt.xticks(np.arange(0, 23, step=2))\n",
    "input(\"Нажмите на любую клавишу, чтобы продолжить...\")\n",
    "\n",
    "print(\"Выполнение градиентного спуска\")\n",
    "ones_column = np.ones((97, 1))\n",
    "X = np.hstack((ones_column, X))\n",
    "theta = np.zeros((2, 1))\n",
    "\n",
    "iterations = 1500\n",
    "alpha = 0.01\n",
    "\n",
    "theta = gradient_descent(X, Y, theta, alpha, iterations)\n",
    "print(\"Значение theta, полученное методом градиентного спуска:\\n\", theta)\n",
    "\n",
    "plt.plot(X[:, 1], X.dot(theta))\n",
    "ax.legend([\"Линейная регрессия\", \"Оюучающие данные\"])\n",
    "plt.show()"
   ]
  },
  {
   "cell_type": "code",
   "execution_count": 11,
   "metadata": {},
   "outputs": [
    {
     "name": "stdout",
     "output_type": "stream",
     "text": [
      "Для количества изделий = 35,000, предсказываем прибыль: [0.45197679]\n",
      "Для количества изделий = 70,000, предсказываем прибыль: [4.53424501]\n"
     ]
    }
   ],
   "source": [
    "predict1 = np.array([1, 3.5]).dot(theta)\n",
    "print(\"Для количества изделий = 35,000, предсказываем прибыль:\", predict1)\n",
    "\n",
    "predict2 = np.array([1, 7]).dot(theta)\n",
    "print(\"Для количества изделий = 70,000, предсказываем прибыль:\", predict2)"
   ]
  },
  {
   "cell_type": "code",
   "execution_count": 12,
   "metadata": {},
   "outputs": [
    {
     "name": "stdout",
     "output_type": "stream",
     "text": [
      "Визуализация J\n"
     ]
    }
   ],
   "source": [
    "print(\"Визуализация J\")\n",
    "theta0_vals = np.linspace(-10, 10, 100)\n",
    "theta1_vals = np.linspace(-1, 4, 100)\n",
    "\n",
    "J_vals = np.zeros((theta0_vals.size, theta1_vals.size))\n",
    "\n",
    "for i in range(theta0_vals.size):\n",
    "    for j in range(theta1_vals.size):\n",
    "        t = np.zeros((2, 1))\n",
    "        t[0, 0] = theta0_vals[i]\n",
    "        t[1, 0] = theta1_vals[j]\n",
    "        J_vals[i, j] = computeCost(X, Y, t)"
   ]
  },
  {
   "cell_type": "markdown",
   "metadata": {},
   "source": [
    "Модуль mplot3d из библиотеки matplotlib отображал 3d графики некорректно, по этой причине было решено оставить отрисовку в матлабе. В ячейке ниже происходит запись нужных файлов, которые используются в скрипте draw_surf_contour.m "
   ]
  },
  {
   "cell_type": "code",
   "execution_count": 13,
   "metadata": {},
   "outputs": [],
   "source": [
    "with open(\"surf_data.txt\", \"w\", newline='') as f:\n",
    "    writer = csv.writer(f)\n",
    "    for i in range(100):\n",
    "        writer.writerow([theta0_vals[i], theta1_vals[i]])\n",
    "\n",
    "with open('surf_values.txt', 'w', newline='') as f:\n",
    "    writer = csv.writer(f)\n",
    "    for i in range(100):\n",
    "        row = []\n",
    "        for j in range(100):\n",
    "            row.append(J_vals[i, j])\n",
    "        writer.writerow(row)\n",
    "\n",
    "with open('theta_vals.txt', 'w', newline='') as f:\n",
    "    writer = csv.writer(f)\n",
    "    theta0 = theta.item(0)\n",
    "    theta1 = theta.item(1)\n",
    "    writer.writerow([theta0, theta1])"
   ]
  },
  {
   "cell_type": "code",
   "execution_count": null,
   "metadata": {},
   "outputs": [],
   "source": [
    ""
   ]
  }
 ],
 "metadata": {
  "kernelspec": {
   "display_name": "Python 3",
   "language": "python",
   "name": "python3"
  },
  "language_info": {
   "codemirror_mode": {
    "name": "ipython",
    "version": 3.0
   },
   "file_extension": ".py",
   "mimetype": "text/x-python",
   "name": "python",
   "nbconvert_exporter": "python",
   "pygments_lexer": "ipython3",
   "version": "3.6.2"
  }
 },
 "nbformat": 4,
 "nbformat_minor": 0
}