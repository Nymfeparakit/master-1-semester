{
 "cells": [
  {
   "cell_type": "code",
   "execution_count": 3,
   "metadata": {},
   "outputs": [],
   "source": [
    "import csv\n",
    "import numpy as np\n",
    "import matplotlib.pyplot as plt\n",
    "import utils as ut"
   ]
  },
  {
   "cell_type": "code",
   "execution_count": 5,
   "metadata": {},
   "outputs": [
    {
     "name": "stdout",
     "output_type": "stream",
     "text": [
      "Загрузка данных...\n"
     ]
    }
   ],
   "source": [
    "print('Загрузка данных...')\n",
    "X = []\n",
    "Y = []\n",
    "with open('ex1data3.csv') as f:\n",
    "    scv_reader = csv.reader(f, delimiter=',')\n",
    "    for row in scv_reader:\n",
    "        X.append([row[0], row[1]])\n",
    "        Y.append([row[2]])\n",
    "X = np.asarray(X).astype(np.float)\n",
    "Y = np.asarray(Y).astype(np.float)\n",
    "m = Y.size"
   ]
  },
  {
   "cell_type": "code",
   "execution_count": 6,
   "metadata": {},
   "outputs": [
    {
     "name": "stdout",
     "output_type": "stream",
     "text": [
      "Нормализация признаков...\n"
     ]
    }
   ],
   "source": [
    "# Задача 1 - Нормализация признаков\n",
    "print('Нормализация признаков...')\n",
    "X, mu, sigma = ut.featureNormalize(X)\n",
    "ones_column = np.ones((m, 1))\n",
    "X = np.hstack((ones_column, X))"
   ]
  },
  {
   "cell_type": "code",
   "execution_count": 7,
   "metadata": {},
   "outputs": [
    {
     "name": "stdout",
     "output_type": "stream",
     "text": [
      "Выполнение градиентного спуска...\n"
     ]
    },
    {
     "data": {
      "image/png": "[encoded data removed]",
      "text/plain": [
       "<Figure size 432x288 with 1 Axes>"
      ]
     },
     "metadata": {
      "needs_background": "light"
     },
     "output_type": "display_data"
    }
   ],
   "source": [
    "# Задача 2 - Метод градиентного спуска\n",
    "print('Выполнение градиентного спуска...')\n",
    "alpha = 0.01\n",
    "num_iters = 400\n",
    "\n",
    "theta = np.zeros((3, 1))\n",
    "theta, J_history = ut.gradient_descent(X, Y, theta, alpha, num_iters)\n",
    "\n",
    "fig = plt.figure()\n",
    "ax = plt.axes()\n",
    "plt.plot(np.arange(J_history.size), J_history)\n",
    "ax.set_xlabel(\"Число итераций\")\n",
    "ax.set_ylabel(\"Функция стоимости J\")\n",
    "plt.show()"
   ]
  },
  {
   "cell_type": "code",
   "execution_count": 8,
   "metadata": {},
   "outputs": [
    {
     "name": "stdout",
     "output_type": "stream",
     "text": [
      "theta, полученное методом градиентного спуска: [[6899917.02309388]\n",
      " [1116546.73215195]\n",
      " [ 695699.70107719]]\n",
      "norm_in_x: [ 1.         -0.28567259  0.        ]\n",
      "Стоимость трехкомнатной квартиры площадью 60 м2 составляет: [[6580950.22805141]]\n"
     ]
    }
   ],
   "source": [
    "print(\"theta, полученное методом градиентного спуска:\", theta)\n",
    "# Оценка стоимости 3-комантной квартиры площадью 60 м2\n",
    "in_x = np.array([1, 60, 3])\n",
    "norm_mu = np.array([0, mu[0, 0], mu[0, 1]])\n",
    "norm_sigma = np.array([1, sigma[0, 0], sigma[0, 1]])\n",
    "norm_in_x = np.subtract(in_x, norm_mu)/norm_sigma\n",
    "print(\"norm_in_x:\", norm_in_x)\n",
    "price = theta.reshape(1, 3)@norm_in_x.reshape(3, 1)\n",
    "print(\"Стоимость трехкомнатной квартиры площадью 60 м2 составляет:\", price)"
   ]
  },
  {
   "cell_type": "code",
   "execution_count": 10,
   "metadata": {},
   "outputs": [
    {
     "data": {
      "image/png": "[encoded data removed]",
      "text/plain": [
       "<Figure size 432x288 with 1 Axes>"
      ]
     },
     "metadata": {
      "needs_background": "light"
     },
     "output_type": "display_data"
    }
   ],
   "source": [
    "# Выбор скорости обучения\n",
    "fig = plt.figure()\n",
    "alpha = 0.3\n",
    "num_iters = 50\n",
    "theta = np.zeros((3, 1))\n",
    "theta, J_1 = ut.gradient_descent(X, Y, theta, alpha, num_iters)\n",
    "plt.plot(np.arange(1, 51), J_1)\n",
    "alpha /= 3\n",
    "theta = np.zeros((3, 1))\n",
    "theta, J_2 = ut.gradient_descent(X, Y, theta, alpha, num_iters)\n",
    "plt.plot(np.arange(1, 51), J_2)\n",
    "alpha /= 3\n",
    "theta = np.zeros((3, 1))\n",
    "theta, J_3 = ut.gradient_descent(X, Y, theta, alpha, num_iters)\n",
    "plt.plot(np.arange(1, 51), J_3)\n",
    "ax = fig.axes[0]\n",
    "ax.legend(['alpha = 0.3', 'alpha = 0.1', 'alpha = 0.03'])\n",
    "plt.show()"
   ]
  },
  {
   "cell_type": "code",
   "execution_count": 11,
   "metadata": {},
   "outputs": [
    {
     "name": "stdout",
     "output_type": "stream",
     "text": [
      "Решение системы нормальных уравнений...\n",
      "Значение theta, полученное методом решения системы нормальных уравнений: [[-1222144.91038483]\n",
      " [  128996.20745004]\n",
      " [   -3439.55623461]]\n",
      "Стоимость трехкомнатной квартиры площадью 60 м2 составляет: [[6507308.86791352]]\n"
     ]
    }
   ],
   "source": [
    "print(\"Решение системы нормальных уравнений...\")\n",
    "# Загрузка данных\n",
    "X = []\n",
    "Y = []\n",
    "with open('ex1data3.csv') as f:\n",
    "    scv_reader = csv.reader(f, delimiter=',')\n",
    "    for row in scv_reader:\n",
    "        X.append([row[0], row[1]])\n",
    "        Y.append([row[2]])\n",
    "X = np.asarray(X).astype(np.float)\n",
    "Y = np.asarray(Y).astype(np.float)\n",
    "m = Y.size\n",
    "\n",
    "# Задача 1 - Нормализация признаков\n",
    "ones_column = np.ones((m, 1))\n",
    "X = np.hstack((ones_column, X))\n",
    "\n",
    "# Расчет theta решением системы нормальных уравнений\n",
    "theta = ut.normalEqn(X, Y)\n",
    "print(\"Значение theta, полученное методом решения системы нормальных уравнений:\", theta)\n",
    "\n",
    "in_x_new = np.array([1, 60, 3]).reshape(3, 1)\n",
    "price = theta.T@in_x_new\n",
    "print(\"Стоимость трехкомнатной квартиры площадью 60 м2 составляет:\", price)"
   ]
  },
  {
   "cell_type": "code",
   "execution_count": null,
   "metadata": {},
   "outputs": [],
   "source": []
  }
 ],
 "metadata": {
  "kernelspec": {
   "display_name": "Python 3",
   "language": "python",
   "name": "python3"
  },
  "language_info": {
   "codemirror_mode": {
    "name": "ipython",
    "version": 3
   },
   "file_extension": ".py",
   "mimetype": "text/x-python",
   "name": "python",
   "nbconvert_exporter": "python",
   "pygments_lexer": "ipython3",
   "version": "3.6.2"
  }
 },
 "nbformat": 4,
 "nbformat_minor": 4
}
